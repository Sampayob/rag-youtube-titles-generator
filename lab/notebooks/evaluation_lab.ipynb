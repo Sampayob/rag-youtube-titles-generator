{
 "cells": [
  {
   "cell_type": "markdown",
   "metadata": {},
   "source": [
    "# Rag Lab\n",
    "\n",
    "The aim of this notebook is to evaluate the retrieval and RAG model\n",
    "- Retrieval evaluation\n",
    "- RAG evaluation"
   ]
  },
  {
   "cell_type": "code",
   "execution_count": 1,
   "metadata": {},
   "outputs": [],
   "source": [
    "from dotenv import load_dotenv\n",
    "from openai import OpenAI\n",
    "import pandas as pd\n",
    "from tqdm import tqdm"
   ]
  },
  {
   "cell_type": "code",
   "execution_count": 2,
   "metadata": {},
   "outputs": [],
   "source": [
    "# Create previously the environment variable OPENAI_API_KEY with your personal OpenAI API key\n",
    "# in the command line or in a .env file\n",
    "load_dotenv()\n",
    "\n",
    "client = OpenAI()"
   ]
  },
  {
   "cell_type": "markdown",
   "metadata": {},
   "source": [
    "### Data indexing: Elasticsearch"
   ]
  },
  {
   "cell_type": "code",
   "execution_count": 3,
   "metadata": {},
   "outputs": [],
   "source": [
    "df = pd.read_csv('../../data/data.csv')"
   ]
  },
  {
   "cell_type": "code",
   "execution_count": 4,
   "metadata": {},
   "outputs": [],
   "source": [
    "documents = df[['id', 'title', 'tags', 'description']].to_dict('records')"
   ]
  },
  {
   "cell_type": "code",
   "execution_count": 5,
   "metadata": {},
   "outputs": [
    {
     "data": {
      "text/plain": [
       "ObjectApiResponse({'name': '52a926cb09df', 'cluster_name': 'docker-cluster', 'cluster_uuid': 'lGJGYGlNREaNO19N8Hgfzw', 'version': {'number': '8.5.0', 'build_flavor': 'default', 'build_type': 'docker', 'build_hash': 'c94b4700cda13820dad5aa74fae6db185ca5c304', 'build_date': '2022-10-24T16:54:16.433628434Z', 'build_snapshot': False, 'lucene_version': '9.4.1', 'minimum_wire_compatibility_version': '7.17.0', 'minimum_index_compatibility_version': '7.0.0'}, 'tagline': 'You Know, for Search'})"
      ]
     },
     "execution_count": 5,
     "metadata": {},
     "output_type": "execute_result"
    }
   ],
   "source": [
    "# Run ElasticSearch previously in docker\n",
    "# docker run -it \\\n",
    "#     --rm \\\n",
    "#     --name elasticsearch \\\n",
    "#     -m 4GB \\\n",
    "#     -p 9200:9200 \\\n",
    "#     -p 9300:9300 \\\n",
    "#     -e \"discovery.type=single-node\" \\\n",
    "#     -e \"xpack.security.enabled=false\" \\\n",
    "#     docker.elastic.co/elasticsearch/elasticsearch:8.4.3\n",
    "\n",
    "from elasticsearch import Elasticsearch\n",
    "es_client = Elasticsearch('http://localhost:9200') \n",
    "es_client.info()"
   ]
  },
  {
   "cell_type": "code",
   "execution_count": 6,
   "metadata": {},
   "outputs": [],
   "source": [
    "index_settings = {\n",
    "    \"settings\": {\n",
    "        \"number_of_shards\": 1,\n",
    "        \"number_of_replicas\": 0\n",
    "    },\n",
    "    \"mappings\": {\n",
    "        \"properties\": {\n",
    "            \"title\": {\"type\": \"text\"},\n",
    "            \"description\": {\"type\": \"text\"},\n",
    "            \"tags\": {\"type\": \"text\"},\n",
    "            \"id\": {\"type\" : \"keyword\"},\n",
    "        }\n",
    "    }\n",
    "}\n",
    "\n",
    "index_name = \"youtube-titles\"\n",
    "\n",
    "try:\n",
    "    es_client.indices.create(index=index_name, body=index_settings)\n",
    "except:\n",
    "    es_client.options(ignore_status=[400,404]).indices.delete(index=index_name)\n",
    "    es_client.indices.create(index=index_name, body=index_settings)"
   ]
  },
  {
   "cell_type": "code",
   "execution_count": 7,
   "metadata": {},
   "outputs": [
    {
     "name": "stderr",
     "output_type": "stream",
     "text": [
      "100%|██████████| 200/200 [00:10<00:00, 20.00it/s]\n"
     ]
    }
   ],
   "source": [
    "from tqdm import tqdm \n",
    "for doc in tqdm(documents):\n",
    "    es_client.index(index=index_name, document=doc)"
   ]
  },
  {
   "cell_type": "markdown",
   "metadata": {},
   "source": [
    "## Retrieval evaluation"
   ]
  },
  {
   "cell_type": "code",
   "execution_count": 8,
   "metadata": {},
   "outputs": [],
   "source": [
    "df_queries = pd.read_csv('../../data/ground-truth-retrieval.csv')"
   ]
  },
  {
   "cell_type": "code",
   "execution_count": 9,
   "metadata": {},
   "outputs": [
    {
     "data": {
      "text/plain": [
       "(1000, 2)"
      ]
     },
     "execution_count": 9,
     "metadata": {},
     "output_type": "execute_result"
    }
   ],
   "source": [
    "df_queries.shape"
   ]
  },
  {
   "cell_type": "code",
   "execution_count": 10,
   "metadata": {},
   "outputs": [
    {
     "data": {
      "text/html": [
       "<div>\n",
       "<style scoped>\n",
       "    .dataframe tbody tr th:only-of-type {\n",
       "        vertical-align: middle;\n",
       "    }\n",
       "\n",
       "    .dataframe tbody tr th {\n",
       "        vertical-align: top;\n",
       "    }\n",
       "\n",
       "    .dataframe thead th {\n",
       "        text-align: right;\n",
       "    }\n",
       "</style>\n",
       "<table border=\"1\" class=\"dataframe\">\n",
       "  <thead>\n",
       "    <tr style=\"text-align: right;\">\n",
       "      <th></th>\n",
       "      <th>id</th>\n",
       "      <th>query</th>\n",
       "    </tr>\n",
       "  </thead>\n",
       "  <tbody>\n",
       "    <tr>\n",
       "      <th>0</th>\n",
       "      <td>39</td>\n",
       "      <td>best Pokémon Let's Go Pikachu trailer reaction</td>\n",
       "    </tr>\n",
       "    <tr>\n",
       "      <th>1</th>\n",
       "      <td>39</td>\n",
       "      <td>Pokémon Let's Go Eevee gameplay review</td>\n",
       "    </tr>\n",
       "    <tr>\n",
       "      <th>2</th>\n",
       "      <td>39</td>\n",
       "      <td>Pokémon Let's Go features explained</td>\n",
       "    </tr>\n",
       "    <tr>\n",
       "      <th>3</th>\n",
       "      <td>39</td>\n",
       "      <td>how to catch rare Pokémon in Let's Go</td>\n",
       "    </tr>\n",
       "    <tr>\n",
       "      <th>4</th>\n",
       "      <td>39</td>\n",
       "      <td>ultimate guide to Pokémon Let's Go on Nintendo...</td>\n",
       "    </tr>\n",
       "  </tbody>\n",
       "</table>\n",
       "</div>"
      ],
      "text/plain": [
       "   id                                              query\n",
       "0  39     best Pokémon Let's Go Pikachu trailer reaction\n",
       "1  39             Pokémon Let's Go Eevee gameplay review\n",
       "2  39                Pokémon Let's Go features explained\n",
       "3  39              how to catch rare Pokémon in Let's Go\n",
       "4  39  ultimate guide to Pokémon Let's Go on Nintendo..."
      ]
     },
     "execution_count": 10,
     "metadata": {},
     "output_type": "execute_result"
    }
   ],
   "source": [
    "df_queries.head()"
   ]
  },
  {
   "cell_type": "code",
   "execution_count": 11,
   "metadata": {},
   "outputs": [],
   "source": [
    "ground_truth = df_queries.to_dict(orient='records')"
   ]
  },
  {
   "cell_type": "code",
   "execution_count": 12,
   "metadata": {},
   "outputs": [
    {
     "data": {
      "text/plain": [
       "{'id': 39, 'query': \"best Pokémon Let's Go Pikachu trailer reaction\"}"
      ]
     },
     "execution_count": 12,
     "metadata": {},
     "output_type": "execute_result"
    }
   ],
   "source": [
    "ground_truth[0]"
   ]
  },
  {
   "cell_type": "code",
   "execution_count": 13,
   "metadata": {},
   "outputs": [],
   "source": [
    "def hit_rate(relevance_total):\n",
    "    cnt = 0\n",
    "\n",
    "    for line in relevance_total:\n",
    "        if True in line:\n",
    "            cnt = cnt + 1\n",
    "\n",
    "    return cnt / len(relevance_total)"
   ]
  },
  {
   "cell_type": "code",
   "execution_count": 14,
   "metadata": {},
   "outputs": [],
   "source": [
    "def mrr(relevance_total):\n",
    "    total_score = 0.0\n",
    "\n",
    "    for line in relevance_total:\n",
    "        for rank in range(len(line)):\n",
    "            if line[rank] == True:\n",
    "                total_score = total_score + 1 / (rank + 1)\n",
    "\n",
    "    return total_score / len(relevance_total)"
   ]
  },
  {
   "cell_type": "code",
   "execution_count": 15,
   "metadata": {},
   "outputs": [],
   "source": [
    "def search_evaluation(query):\n",
    "    \n",
    "    query = query['query']\n",
    "\n",
    "    search_query = {\n",
    "        \"size\": 10,\n",
    "        \"query\": {\n",
    "            \"bool\": {\n",
    "                \"must\": {\n",
    "                    \"multi_match\": {\n",
    "                        \"query\": query,\n",
    "                        \"fields\": [\"description\", \"text\", \"tags\"],\n",
    "                    }\n",
    "                },\n",
    "            }\n",
    "        }\n",
    "    }\n",
    "\n",
    "    search_results = es_client.search(index=index_name, body=search_query)\n",
    "    return [r['_source'] for r in search_results['hits']['hits']]"
   ]
  },
  {
   "cell_type": "code",
   "execution_count": 16,
   "metadata": {},
   "outputs": [],
   "source": [
    "def evaluate(ground_truth, search_function):\n",
    "    relevance_total = []\n",
    "\n",
    "    for q in tqdm(ground_truth):\n",
    "        doc_id = q['id']\n",
    "        results = search_function(q)\n",
    "        relevance = [d['id'] == doc_id for d in results]\n",
    "        relevance_total.append(relevance)\n",
    "\n",
    "    return {\n",
    "        'hit_rate': hit_rate(relevance_total),\n",
    "        'mrr': mrr(relevance_total),\n",
    "    }"
   ]
  },
  {
   "cell_type": "code",
   "execution_count": 17,
   "metadata": {},
   "outputs": [
    {
     "name": "stderr",
     "output_type": "stream",
     "text": [
      "100%|██████████| 1000/1000 [00:50<00:00, 19.93it/s]\n"
     ]
    },
    {
     "data": {
      "text/plain": [
       "{'hit_rate': 0.941, 'mrr': 0.8764996031746036}"
      ]
     },
     "execution_count": 17,
     "metadata": {},
     "output_type": "execute_result"
    }
   ],
   "source": [
    "evaluate(ground_truth=ground_truth, search_function=search_evaluation)"
   ]
  },
  {
   "cell_type": "markdown",
   "metadata": {},
   "source": [
    "## RAG evaluation"
   ]
  },
  {
   "cell_type": "code",
   "execution_count": 18,
   "metadata": {},
   "outputs": [],
   "source": [
    "prompt2_template = \"\"\"\n",
    "You are an expert evaluator for a Retrieval-Augmented Generation (RAG) system.\n",
    "Your task is to analyze the relevance of the generated answer to the given query.\n",
    "Based on the relevance of the generated answer, you will classify it\n",
    "as \"NON_RELEVANT\", \"PARTLY_RELEVANT\", or \"RELEVANT\".\n",
    "\n",
    "Here is the data for evaluation:\n",
    "\n",
    "query: {query}\n",
    "Generated Answer: {answer_llm}\n",
    "\n",
    "Please analyze the content and context of the generated answer in relation to the question\n",
    "and provide your evaluation in parsable JSON without using code blocks:\n",
    "\n",
    "{{\n",
    "  \"Relevance\": \"NON_RELEVANT\" | \"PARTLY_RELEVANT\" | \"RELEVANT\",\n",
    "  \"Explanation\": \"[Provide a brief explanation for your evaluation]\"\n",
    "}}\n",
    "\"\"\".strip()"
   ]
  },
  {
   "cell_type": "code",
   "execution_count": 19,
   "metadata": {},
   "outputs": [],
   "source": [
    "prompt_template = \"\"\"\n",
    "You're a professional youtuber. Answer with a youtube video title to the QUERY which is based on the CONTEXT from the video database.\n",
    "Use only the facts from the CONTEXT when answering the QUERY\n",
    "\n",
    "QUERY:\n",
    "{query}\n",
    "\n",
    "CONTEXT:\n",
    "{context}\n",
    "\"\"\".strip()\n",
    "\n",
    "entry_template = \"\"\"\n",
    "video_title: {title},\n",
    "video_description: {description},\n",
    "video_tags: {tags}\n",
    "\"\"\".strip()\n",
    "\n",
    "def build_prompt(query, search_results, prompt_template, entry_template):\n",
    "    context = \"\"\n",
    "    \n",
    "    for doc in search_results:\n",
    "        context = context + entry_template.format(id=doc[\"id\"],\n",
    "                                                  title=doc[\"title\"],\n",
    "                                                  description=doc[\"description\"],\n",
    "                                                  tags=doc[\"tags\"]) + \"\\n\\n\"\n",
    "        \n",
    "    prompt = prompt_template.format(query=query, context=context).strip()\n",
    "    return prompt\n",
    "\n",
    "def search(query):\n",
    "    search_query = {\n",
    "        \"size\": 10,\n",
    "        \"query\": {\n",
    "            \"bool\": {\n",
    "                \"must\": {\n",
    "                    \"multi_match\": {\n",
    "                        \"query\": query,\n",
    "                        \"fields\": [\"description\", \"text\", \"tags\"],\n",
    "                        \"type\": \"best_fields\"\n",
    "                    }\n",
    "                },\n",
    "            }\n",
    "        }\n",
    "    }\n",
    "\n",
    "    search_results = es_client.search(index=index_name, body=search_query)\n",
    "    return [r['_source'] for r in search_results['hits']['hits']]\n",
    "\n",
    "def llm(prompt, model='gpt-4o-mini'):\n",
    "    response = client.chat.completions.create(\n",
    "        model=model,\n",
    "        messages=[{\"role\": \"user\", \"content\": prompt}]\n",
    "    )\n",
    "    \n",
    "    return response.choices[0].message.content\n",
    "\n",
    "def rag(query, model='gpt-4o-mini'):\n",
    "    search_results = search(query=query)\n",
    "    prompt = build_prompt(query=query,\n",
    "                        search_results=search_results,\n",
    "                        entry_template=entry_template,\n",
    "                        prompt_template=prompt_template)\n",
    "    answer = llm(prompt=prompt, model=model)\n",
    "    return answer"
   ]
  },
  {
   "cell_type": "markdown",
   "metadata": {},
   "source": [
    "### gpt-4o-mini"
   ]
  },
  {
   "cell_type": "code",
   "execution_count": 20,
   "metadata": {},
   "outputs": [
    {
     "name": "stderr",
     "output_type": "stream",
     "text": [
      "100%|██████████| 1000/1000 [34:29<00:00,  2.07s/it]\n"
     ]
    }
   ],
   "source": [
    "import json\n",
    "\n",
    "evaluations = []\n",
    "\n",
    "for record in tqdm(ground_truth):\n",
    "    query = record['query']\n",
    "    answer_llm = rag(query, model='gpt-4o-mini')\n",
    "    \n",
    "    prompt = prompt2_template.format(\n",
    "        query=query,\n",
    "        answer_llm=answer_llm\n",
    "    )\n",
    "\n",
    "    evaluation = llm(prompt, model='gpt-4o-mini')\n",
    "    evaluation = json.dumps(evaluation)\n",
    "    evaluation = json.loads(fr\"{evaluation}\")\n",
    "\n",
    "    evaluations.append((record, answer_llm, evaluation))"
   ]
  },
  {
   "cell_type": "code",
   "execution_count": 22,
   "metadata": {},
   "outputs": [
    {
     "data": {
      "text/html": [
       "<div>\n",
       "<style scoped>\n",
       "    .dataframe tbody tr th:only-of-type {\n",
       "        vertical-align: middle;\n",
       "    }\n",
       "\n",
       "    .dataframe tbody tr th {\n",
       "        vertical-align: top;\n",
       "    }\n",
       "\n",
       "    .dataframe thead th {\n",
       "        text-align: right;\n",
       "    }\n",
       "</style>\n",
       "<table border=\"1\" class=\"dataframe\">\n",
       "  <thead>\n",
       "    <tr style=\"text-align: right;\">\n",
       "      <th></th>\n",
       "      <th>record</th>\n",
       "      <th>answer</th>\n",
       "      <th>evaluation</th>\n",
       "      <th>id</th>\n",
       "      <th>query</th>\n",
       "    </tr>\n",
       "  </thead>\n",
       "  <tbody>\n",
       "    <tr>\n",
       "      <th>0</th>\n",
       "      <td>{'id': 39, 'query': 'best Pokémon Let's Go Pik...</td>\n",
       "      <td>**\"Epic Reaction to Pokémon: Let's Go, Pikachu...</td>\n",
       "      <td>{\\n  \"Relevance\": \"RELEVANT\",\\n  \"Explanation\"...</td>\n",
       "      <td>39</td>\n",
       "      <td>best Pokémon Let's Go Pikachu trailer reaction</td>\n",
       "    </tr>\n",
       "    <tr>\n",
       "      <th>1</th>\n",
       "      <td>{'id': 39, 'query': 'Pokémon Let's Go Eevee ga...</td>\n",
       "      <td>\"Pokémon Let's Go Eevee: A Fresh Take on a Cla...</td>\n",
       "      <td>{\\n  \"Relevance\": \"PARTLY_RELEVANT\",\\n  \"Expla...</td>\n",
       "      <td>39</td>\n",
       "      <td>Pokémon Let's Go Eevee gameplay review</td>\n",
       "    </tr>\n",
       "    <tr>\n",
       "      <th>2</th>\n",
       "      <td>{'id': 39, 'query': 'Pokémon Let's Go features...</td>\n",
       "      <td>**Title:** Discover the Magic of Pokémon Let's...</td>\n",
       "      <td>{\\n  \"Relevance\": \"PARTLY_RELEVANT\",\\n  \"Expla...</td>\n",
       "      <td>39</td>\n",
       "      <td>Pokémon Let's Go features explained</td>\n",
       "    </tr>\n",
       "    <tr>\n",
       "      <th>3</th>\n",
       "      <td>{'id': 39, 'query': 'how to catch rare Pokémon...</td>\n",
       "      <td>\"Ultimate Guide to Catching Rare Pokémon in Le...</td>\n",
       "      <td>{\\n  \"Relevance\": \"PARTLY_RELEVANT\",\\n  \"Expla...</td>\n",
       "      <td>39</td>\n",
       "      <td>how to catch rare Pokémon in Let's Go</td>\n",
       "    </tr>\n",
       "    <tr>\n",
       "      <th>4</th>\n",
       "      <td>{'id': 39, 'query': 'ultimate guide to Pokémon...</td>\n",
       "      <td>\"Ultimate Guide to Pokémon: Let's Go, Pikachu!...</td>\n",
       "      <td>{\\n  \"Relevance\": \"RELEVANT\",\\n  \"Explanation\"...</td>\n",
       "      <td>39</td>\n",
       "      <td>ultimate guide to Pokémon Let's Go on Nintendo...</td>\n",
       "    </tr>\n",
       "  </tbody>\n",
       "</table>\n",
       "</div>"
      ],
      "text/plain": [
       "                                              record  \\\n",
       "0  {'id': 39, 'query': 'best Pokémon Let's Go Pik...   \n",
       "1  {'id': 39, 'query': 'Pokémon Let's Go Eevee ga...   \n",
       "2  {'id': 39, 'query': 'Pokémon Let's Go features...   \n",
       "3  {'id': 39, 'query': 'how to catch rare Pokémon...   \n",
       "4  {'id': 39, 'query': 'ultimate guide to Pokémon...   \n",
       "\n",
       "                                              answer  \\\n",
       "0  **\"Epic Reaction to Pokémon: Let's Go, Pikachu...   \n",
       "1  \"Pokémon Let's Go Eevee: A Fresh Take on a Cla...   \n",
       "2  **Title:** Discover the Magic of Pokémon Let's...   \n",
       "3  \"Ultimate Guide to Catching Rare Pokémon in Le...   \n",
       "4  \"Ultimate Guide to Pokémon: Let's Go, Pikachu!...   \n",
       "\n",
       "                                          evaluation  id  \\\n",
       "0  {\\n  \"Relevance\": \"RELEVANT\",\\n  \"Explanation\"...  39   \n",
       "1  {\\n  \"Relevance\": \"PARTLY_RELEVANT\",\\n  \"Expla...  39   \n",
       "2  {\\n  \"Relevance\": \"PARTLY_RELEVANT\",\\n  \"Expla...  39   \n",
       "3  {\\n  \"Relevance\": \"PARTLY_RELEVANT\",\\n  \"Expla...  39   \n",
       "4  {\\n  \"Relevance\": \"RELEVANT\",\\n  \"Explanation\"...  39   \n",
       "\n",
       "                                               query  \n",
       "0     best Pokémon Let's Go Pikachu trailer reaction  \n",
       "1             Pokémon Let's Go Eevee gameplay review  \n",
       "2                Pokémon Let's Go features explained  \n",
       "3              how to catch rare Pokémon in Let's Go  \n",
       "4  ultimate guide to Pokémon Let's Go on Nintendo...  "
      ]
     },
     "execution_count": 22,
     "metadata": {},
     "output_type": "execute_result"
    }
   ],
   "source": [
    "df_eval.head()"
   ]
  },
  {
   "cell_type": "code",
   "execution_count": 25,
   "metadata": {},
   "outputs": [],
   "source": [
    "import ast\n",
    "\n",
    "df_eval = pd.DataFrame(evaluations, columns=['record', 'answer', 'evaluation'])\n",
    "df_eval['id'] = df_eval.record.apply(lambda d: d['id'])\n",
    "df_eval['query'] = df_eval.record.apply(lambda d: d['query'])\n",
    "df_eval['relevance'] = df_eval.evaluation.apply(lambda d: ast.literal_eval(d)['Relevance'])\n",
    "df_eval['explanation'] = df_eval.evaluation.apply(lambda d: ast.literal_eval(d)['Explanation'])\n",
    "\n",
    "del df_eval['record']\n",
    "del df_eval['evaluation']"
   ]
  },
  {
   "cell_type": "code",
   "execution_count": 26,
   "metadata": {},
   "outputs": [
    {
     "data": {
      "text/html": [
       "<div>\n",
       "<style scoped>\n",
       "    .dataframe tbody tr th:only-of-type {\n",
       "        vertical-align: middle;\n",
       "    }\n",
       "\n",
       "    .dataframe tbody tr th {\n",
       "        vertical-align: top;\n",
       "    }\n",
       "\n",
       "    .dataframe thead th {\n",
       "        text-align: right;\n",
       "    }\n",
       "</style>\n",
       "<table border=\"1\" class=\"dataframe\">\n",
       "  <thead>\n",
       "    <tr style=\"text-align: right;\">\n",
       "      <th></th>\n",
       "      <th>answer</th>\n",
       "      <th>id</th>\n",
       "      <th>query</th>\n",
       "      <th>relevance</th>\n",
       "      <th>explanation</th>\n",
       "    </tr>\n",
       "  </thead>\n",
       "  <tbody>\n",
       "    <tr>\n",
       "      <th>0</th>\n",
       "      <td>**\"Epic Reaction to Pokémon: Let's Go, Pikachu...</td>\n",
       "      <td>39</td>\n",
       "      <td>best Pokémon Let's Go Pikachu trailer reaction</td>\n",
       "      <td>RELEVANT</td>\n",
       "      <td>The generated answer succinctly captures a pos...</td>\n",
       "    </tr>\n",
       "    <tr>\n",
       "      <th>1</th>\n",
       "      <td>\"Pokémon Let's Go Eevee: A Fresh Take on a Cla...</td>\n",
       "      <td>39</td>\n",
       "      <td>Pokémon Let's Go Eevee gameplay review</td>\n",
       "      <td>PARTLY_RELEVANT</td>\n",
       "      <td>The generated answer includes the title 'Pokém...</td>\n",
       "    </tr>\n",
       "    <tr>\n",
       "      <th>2</th>\n",
       "      <td>**Title:** Discover the Magic of Pokémon Let's...</td>\n",
       "      <td>39</td>\n",
       "      <td>Pokémon Let's Go features explained</td>\n",
       "      <td>PARTLY_RELEVANT</td>\n",
       "      <td>The generated answer includes a title suggesti...</td>\n",
       "    </tr>\n",
       "    <tr>\n",
       "      <th>3</th>\n",
       "      <td>\"Ultimate Guide to Catching Rare Pokémon in Le...</td>\n",
       "      <td>39</td>\n",
       "      <td>how to catch rare Pokémon in Let's Go</td>\n",
       "      <td>PARTLY_RELEVANT</td>\n",
       "      <td>The generated answer provides a title that sug...</td>\n",
       "    </tr>\n",
       "    <tr>\n",
       "      <th>4</th>\n",
       "      <td>\"Ultimate Guide to Pokémon: Let's Go, Pikachu!...</td>\n",
       "      <td>39</td>\n",
       "      <td>ultimate guide to Pokémon Let's Go on Nintendo...</td>\n",
       "      <td>RELEVANT</td>\n",
       "      <td>The generated answer directly addresses the qu...</td>\n",
       "    </tr>\n",
       "  </tbody>\n",
       "</table>\n",
       "</div>"
      ],
      "text/plain": [
       "                                              answer  id  \\\n",
       "0  **\"Epic Reaction to Pokémon: Let's Go, Pikachu...  39   \n",
       "1  \"Pokémon Let's Go Eevee: A Fresh Take on a Cla...  39   \n",
       "2  **Title:** Discover the Magic of Pokémon Let's...  39   \n",
       "3  \"Ultimate Guide to Catching Rare Pokémon in Le...  39   \n",
       "4  \"Ultimate Guide to Pokémon: Let's Go, Pikachu!...  39   \n",
       "\n",
       "                                               query        relevance  \\\n",
       "0     best Pokémon Let's Go Pikachu trailer reaction         RELEVANT   \n",
       "1             Pokémon Let's Go Eevee gameplay review  PARTLY_RELEVANT   \n",
       "2                Pokémon Let's Go features explained  PARTLY_RELEVANT   \n",
       "3              how to catch rare Pokémon in Let's Go  PARTLY_RELEVANT   \n",
       "4  ultimate guide to Pokémon Let's Go on Nintendo...         RELEVANT   \n",
       "\n",
       "                                         explanation  \n",
       "0  The generated answer succinctly captures a pos...  \n",
       "1  The generated answer includes the title 'Pokém...  \n",
       "2  The generated answer includes a title suggesti...  \n",
       "3  The generated answer provides a title that sug...  \n",
       "4  The generated answer directly addresses the qu...  "
      ]
     },
     "execution_count": 26,
     "metadata": {},
     "output_type": "execute_result"
    }
   ],
   "source": [
    "df_eval.head()"
   ]
  },
  {
   "cell_type": "code",
   "execution_count": 27,
   "metadata": {},
   "outputs": [
    {
     "data": {
      "text/plain": [
       "relevance\n",
       "PARTLY_RELEVANT    0.599\n",
       "RELEVANT           0.330\n",
       "NON_RELEVANT       0.071\n",
       "Name: proportion, dtype: float64"
      ]
     },
     "execution_count": 27,
     "metadata": {},
     "output_type": "execute_result"
    }
   ],
   "source": [
    "df_eval.relevance.value_counts(normalize=True)"
   ]
  },
  {
   "cell_type": "code",
   "execution_count": 28,
   "metadata": {},
   "outputs": [
    {
     "data": {
      "text/plain": [
       "relevance\n",
       "PARTLY_RELEVANT    599\n",
       "RELEVANT           330\n",
       "NON_RELEVANT        71\n",
       "Name: count, dtype: int64"
      ]
     },
     "execution_count": 28,
     "metadata": {},
     "output_type": "execute_result"
    }
   ],
   "source": [
    "df_eval.relevance.value_counts()"
   ]
  },
  {
   "cell_type": "code",
   "execution_count": null,
   "metadata": {},
   "outputs": [],
   "source": []
  }
 ],
 "metadata": {
  "kernelspec": {
   "display_name": "youtube-title-generator-98arD9fJ-py3.10",
   "language": "python",
   "name": "python3"
  },
  "language_info": {
   "codemirror_mode": {
    "name": "ipython",
    "version": 3
   },
   "file_extension": ".py",
   "mimetype": "text/x-python",
   "name": "python",
   "nbconvert_exporter": "python",
   "pygments_lexer": "ipython3",
   "version": "3.10.11"
  },
  "orig_nbformat": 4
 },
 "nbformat": 4,
 "nbformat_minor": 2
}
