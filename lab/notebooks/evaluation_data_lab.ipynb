{
 "cells": [
  {
   "cell_type": "markdown",
   "metadata": {},
   "source": [
    "# Evaluation data lab\n",
    "\n",
    "The aim of this notebook is to experiment and create the evaluation dataset (ground truth)"
   ]
  },
  {
   "cell_type": "markdown",
   "metadata": {},
   "source": [
    "## Read previously cleaned/processed data"
   ]
  },
  {
   "cell_type": "code",
   "execution_count": 1,
   "metadata": {},
   "outputs": [],
   "source": [
    "import pandas as pd"
   ]
  },
  {
   "cell_type": "code",
   "execution_count": 2,
   "metadata": {},
   "outputs": [],
   "source": [
    "df = pd.read_csv('../../data/data.csv')\n",
    "documents = df.to_dict(orient='records')"
   ]
  },
  {
   "cell_type": "code",
   "execution_count": 3,
   "metadata": {},
   "outputs": [
    {
     "data": {
      "text/plain": [
       "{'id': 39,\n",
       " 'title': \"Pokémon: Let's Go, Pikachu! and Pokémon: Let's Go, Eevee! Trailer\",\n",
       " 'description': \"Return to the Kanto region and experience a classic Pokémon journey in a whole new way with Pokémon: Let's Go, Pikachu! and Pokémon: Let's Go, Eevee! on Nintendo Switch! Coming November 16, 2018: http://bit.ly/2ISUMVXOfficial site: https://www.pokemon.com/PokemonLetsGoShop: http://www.pokemoncenter.comFacebook: http://www.facebook.com/Pokemon Twitter: http://www.twitter.com/Pokemon Instagram: http://www.instagram.com/pokemon Tumblr: http://www.pokemon.tumblr.com\",\n",
       " 'tags': 'Pokémon|\"Pokemon\"|\"Pokémon Let\\'s Go\"|\"Pokémon Lets Go\"|\"Pokemon Lets Go\"|\"Pokemon Let\\'s Go\"|\"Pikachu\"|\"Eevee\"|\"Pokémon Let\\'s Go Pikachu\"|\"Pokémon Let\\'s Go Eevee\"|\"Pokémon Let\\'s Go Pikachu and Eevee\"|\"Pokémon game\"|\"New Pokémon game\"|\"Nintendo Switch\"|\"Pokémon Nintendo Switch\"|\"Pokémon video game\"|\"Nintendo\"|\"Pokémon for Switch\"'}"
      ]
     },
     "execution_count": 3,
     "metadata": {},
     "output_type": "execute_result"
    }
   ],
   "source": [
    "documents[0]"
   ]
  },
  {
   "cell_type": "markdown",
   "metadata": {},
   "source": [
    "## Ground truth or evaluation data"
   ]
  },
  {
   "cell_type": "code",
   "execution_count": 4,
   "metadata": {},
   "outputs": [],
   "source": [
    "from dotenv import load_dotenv\n",
    "from openai import OpenAI\n",
    "\n",
    "load_dotenv()\n",
    "\n",
    "client = OpenAI()"
   ]
  },
  {
   "cell_type": "markdown",
   "metadata": {},
   "source": [
    "### Evaluation prompt template"
   ]
  },
  {
   "cell_type": "code",
   "execution_count": 5,
   "metadata": {},
   "outputs": [],
   "source": [
    "prompt_template = \"\"\"\n",
    "You emulate a youtuber engaging title generator to achieve >1M views.\n",
    "Formulate 5 video queries that a user might input to obtain its desired video title.\n",
    "The record should contain the YouTube video title.\n",
    "\n",
    "The record:\n",
    "\n",
    "title: {title}\n",
    "description: {description}\n",
    "tags: {tags}\n",
    "\n",
    "Provide the output in parsable JSON without using code blocks:\n",
    "\n",
    "{{\"queries\": [\"query1\", \"query2\", ..., \"query5\"]}}\n",
    "\"\"\".strip()"
   ]
  },
  {
   "cell_type": "markdown",
   "metadata": {},
   "source": [
    "### Evaluation data generation"
   ]
  },
  {
   "cell_type": "code",
   "execution_count": 6,
   "metadata": {},
   "outputs": [],
   "source": [
    "import json\n",
    "\n",
    "def generate_queries(doc: dict) -> json:\n",
    "    \n",
    "    prompt = prompt_template.format(**doc)\n",
    "    \n",
    "    response = client.chat.completions.create(\n",
    "        model='gpt-4o-mini',\n",
    "        messages=[{\"role\": \"user\", \"content\": prompt}]\n",
    "    )\n",
    "    \n",
    "    return response.choices[0].message.content"
   ]
  },
  {
   "cell_type": "code",
   "execution_count": 7,
   "metadata": {},
   "outputs": [
    {
     "name": "stderr",
     "output_type": "stream",
     "text": [
      "  0%|          | 0/200 [00:00<?, ?it/s]"
     ]
    },
    {
     "name": "stderr",
     "output_type": "stream",
     "text": [
      "100%|██████████| 200/200 [04:15<00:00,  1.28s/it]\n"
     ]
    }
   ],
   "source": [
    "import ast\n",
    "\n",
    "from tqdm import tqdm\n",
    "\n",
    "results = {}\n",
    "\n",
    "for doc in tqdm(documents):\n",
    "    doc_id = doc['id']\n",
    "    if doc_id in results:\n",
    "        continue\n",
    "    \n",
    "    queries_raw = generate_queries(doc)\n",
    "\n",
    "    # Avoid JSON decoding errors: dump and load JSON\n",
    "    queries_raw = ast.literal_eval(queries_raw)\n",
    "    queries_raw = json.dumps(queries_raw)\n",
    "    queries = json.loads(fr\"{queries_raw}\")\n",
    "            \n",
    "    results[doc_id] = queries['queries']"
   ]
  },
  {
   "cell_type": "code",
   "execution_count": 8,
   "metadata": {},
   "outputs": [],
   "source": [
    "final_results = []\n",
    "\n",
    "for doc_id, queries in results.items():\n",
    "    for t in queries:\n",
    "        final_results.append((doc_id, t))"
   ]
  },
  {
   "cell_type": "code",
   "execution_count": 9,
   "metadata": {},
   "outputs": [
    {
     "data": {
      "text/plain": [
       "1000"
      ]
     },
     "execution_count": 9,
     "metadata": {},
     "output_type": "execute_result"
    }
   ],
   "source": [
    "len(final_results)"
   ]
  },
  {
   "cell_type": "code",
   "execution_count": 10,
   "metadata": {},
   "outputs": [
    {
     "data": {
      "text/plain": [
       "(39, \"best Pokémon Let's Go Pikachu trailer reaction\")"
      ]
     },
     "execution_count": 10,
     "metadata": {},
     "output_type": "execute_result"
    }
   ],
   "source": [
    "final_results[0]"
   ]
  },
  {
   "cell_type": "code",
   "execution_count": 11,
   "metadata": {},
   "outputs": [],
   "source": [
    "df_results = pd.DataFrame(final_results, columns=['id', 'query'])"
   ]
  },
  {
   "cell_type": "code",
   "execution_count": 12,
   "metadata": {},
   "outputs": [
    {
     "data": {
      "text/html": [
       "<div>\n",
       "<style scoped>\n",
       "    .dataframe tbody tr th:only-of-type {\n",
       "        vertical-align: middle;\n",
       "    }\n",
       "\n",
       "    .dataframe tbody tr th {\n",
       "        vertical-align: top;\n",
       "    }\n",
       "\n",
       "    .dataframe thead th {\n",
       "        text-align: right;\n",
       "    }\n",
       "</style>\n",
       "<table border=\"1\" class=\"dataframe\">\n",
       "  <thead>\n",
       "    <tr style=\"text-align: right;\">\n",
       "      <th></th>\n",
       "      <th>id</th>\n",
       "      <th>query</th>\n",
       "    </tr>\n",
       "  </thead>\n",
       "  <tbody>\n",
       "    <tr>\n",
       "      <th>0</th>\n",
       "      <td>39</td>\n",
       "      <td>best Pokémon Let's Go Pikachu trailer reaction</td>\n",
       "    </tr>\n",
       "    <tr>\n",
       "      <th>1</th>\n",
       "      <td>39</td>\n",
       "      <td>Pokémon Let's Go Eevee gameplay review</td>\n",
       "    </tr>\n",
       "    <tr>\n",
       "      <th>2</th>\n",
       "      <td>39</td>\n",
       "      <td>Pokémon Let's Go features explained</td>\n",
       "    </tr>\n",
       "    <tr>\n",
       "      <th>3</th>\n",
       "      <td>39</td>\n",
       "      <td>how to catch rare Pokémon in Let's Go</td>\n",
       "    </tr>\n",
       "    <tr>\n",
       "      <th>4</th>\n",
       "      <td>39</td>\n",
       "      <td>ultimate guide to Pokémon Let's Go on Nintendo...</td>\n",
       "    </tr>\n",
       "    <tr>\n",
       "      <th>5</th>\n",
       "      <td>156</td>\n",
       "      <td>Sidemen football challenge ideas</td>\n",
       "    </tr>\n",
       "    <tr>\n",
       "      <th>6</th>\n",
       "      <td>156</td>\n",
       "      <td>Total Wipeout football challenge highlights</td>\n",
       "    </tr>\n",
       "    <tr>\n",
       "      <th>7</th>\n",
       "      <td>156</td>\n",
       "      <td>Epic Sidemen sports challenges</td>\n",
       "    </tr>\n",
       "    <tr>\n",
       "      <th>8</th>\n",
       "      <td>156</td>\n",
       "      <td>Behind the scenes of Sidemen Total Wipeout</td>\n",
       "    </tr>\n",
       "    <tr>\n",
       "      <th>9</th>\n",
       "      <td>156</td>\n",
       "      <td>Sidemen Ultimate Challenge Compilation</td>\n",
       "    </tr>\n",
       "  </tbody>\n",
       "</table>\n",
       "</div>"
      ],
      "text/plain": [
       "    id                                              query\n",
       "0   39     best Pokémon Let's Go Pikachu trailer reaction\n",
       "1   39             Pokémon Let's Go Eevee gameplay review\n",
       "2   39                Pokémon Let's Go features explained\n",
       "3   39              how to catch rare Pokémon in Let's Go\n",
       "4   39  ultimate guide to Pokémon Let's Go on Nintendo...\n",
       "5  156                   Sidemen football challenge ideas\n",
       "6  156        Total Wipeout football challenge highlights\n",
       "7  156                     Epic Sidemen sports challenges\n",
       "8  156         Behind the scenes of Sidemen Total Wipeout\n",
       "9  156             Sidemen Ultimate Challenge Compilation"
      ]
     },
     "execution_count": 12,
     "metadata": {},
     "output_type": "execute_result"
    }
   ],
   "source": [
    "df_results.head(10)"
   ]
  },
  {
   "cell_type": "code",
   "execution_count": 13,
   "metadata": {},
   "outputs": [
    {
     "data": {
      "text/plain": [
       "(1000, 2)"
      ]
     },
     "execution_count": 13,
     "metadata": {},
     "output_type": "execute_result"
    }
   ],
   "source": [
    "df_results.shape"
   ]
  },
  {
   "cell_type": "code",
   "execution_count": 14,
   "metadata": {},
   "outputs": [],
   "source": [
    "df_results.to_csv('../../data/ground-truth-retrieval.csv', index=False)"
   ]
  }
 ],
 "metadata": {
  "kernelspec": {
   "display_name": "youtube-title-generator-98arD9fJ-py3.10",
   "language": "python",
   "name": "python3"
  },
  "language_info": {
   "codemirror_mode": {
    "name": "ipython",
    "version": 3
   },
   "file_extension": ".py",
   "mimetype": "text/x-python",
   "name": "python",
   "nbconvert_exporter": "python",
   "pygments_lexer": "ipython3",
   "version": "3.10.11"
  },
  "orig_nbformat": 4
 },
 "nbformat": 4,
 "nbformat_minor": 2
}
