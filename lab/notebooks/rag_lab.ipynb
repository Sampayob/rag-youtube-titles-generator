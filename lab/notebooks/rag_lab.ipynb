{
 "cells": [
  {
   "cell_type": "markdown",
   "metadata": {},
   "source": [
    "# Rag Lab\n",
    "\n",
    "The aim of this notebook is to experiment with the complete RAG pipeline.\n",
    "- Data download\n",
    "- Data cleaning\n",
    "- Data indexing: Elasticsearch\n",
    "- RAG: OpenAI LLM + Elasticsearch"
   ]
  },
  {
   "cell_type": "markdown",
   "metadata": {},
   "source": [
    "## Data download"
   ]
  },
  {
   "cell_type": "code",
   "execution_count": 1,
   "metadata": {},
   "outputs": [],
   "source": [
    "import os\n",
    "\n",
    "from kaggle.api.kaggle_api_extended import KaggleApi\n",
    "import pandas as pd\n",
    "\n",
    "api = KaggleApi()\n",
    "api.authenticate()\n",
    "current_dir = os.getcwd()"
   ]
  },
  {
   "cell_type": "code",
   "execution_count": 2,
   "metadata": {},
   "outputs": [
    {
     "name": "stdout",
     "output_type": "stream",
     "text": [
      "Dataset URL: https://www.kaggle.com/datasets/datasnaek/youtube-new\n"
     ]
    }
   ],
   "source": [
    "api.dataset_download_files('datasnaek/youtube-new', path=current_dir + '../../../data', quiet=True, unzip=True)"
   ]
  },
  {
   "cell_type": "markdown",
   "metadata": {},
   "source": [
    "## Data cleaning"
   ]
  },
  {
   "cell_type": "code",
   "execution_count": 3,
   "metadata": {},
   "outputs": [],
   "source": [
    "import pandas as pd\n",
    "import numpy as np\n",
    "\n",
    "df = pd.read_csv('../../data/USvideos.csv')"
   ]
  },
  {
   "cell_type": "code",
   "execution_count": 4,
   "metadata": {},
   "outputs": [
    {
     "data": {
      "text/plain": [
       "(40949, 16)"
      ]
     },
     "execution_count": 4,
     "metadata": {},
     "output_type": "execute_result"
    }
   ],
   "source": [
    "df.shape"
   ]
  },
  {
   "cell_type": "code",
   "execution_count": 5,
   "metadata": {},
   "outputs": [
    {
     "data": {
      "text/html": [
       "<div>\n",
       "<style scoped>\n",
       "    .dataframe tbody tr th:only-of-type {\n",
       "        vertical-align: middle;\n",
       "    }\n",
       "\n",
       "    .dataframe tbody tr th {\n",
       "        vertical-align: top;\n",
       "    }\n",
       "\n",
       "    .dataframe thead th {\n",
       "        text-align: right;\n",
       "    }\n",
       "</style>\n",
       "<table border=\"1\" class=\"dataframe\">\n",
       "  <thead>\n",
       "    <tr style=\"text-align: right;\">\n",
       "      <th></th>\n",
       "      <th>video_id</th>\n",
       "      <th>trending_date</th>\n",
       "      <th>title</th>\n",
       "      <th>channel_title</th>\n",
       "      <th>category_id</th>\n",
       "      <th>publish_time</th>\n",
       "      <th>tags</th>\n",
       "      <th>views</th>\n",
       "      <th>likes</th>\n",
       "      <th>dislikes</th>\n",
       "      <th>comment_count</th>\n",
       "      <th>thumbnail_link</th>\n",
       "      <th>comments_disabled</th>\n",
       "      <th>ratings_disabled</th>\n",
       "      <th>video_error_or_removed</th>\n",
       "      <th>description</th>\n",
       "    </tr>\n",
       "  </thead>\n",
       "  <tbody>\n",
       "    <tr>\n",
       "      <th>0</th>\n",
       "      <td>2kyS6SvSYSE</td>\n",
       "      <td>17.14.11</td>\n",
       "      <td>WE WANT TO TALK ABOUT OUR MARRIAGE</td>\n",
       "      <td>CaseyNeistat</td>\n",
       "      <td>22</td>\n",
       "      <td>2017-11-13T17:13:01.000Z</td>\n",
       "      <td>SHANtell martin</td>\n",
       "      <td>748374</td>\n",
       "      <td>57527</td>\n",
       "      <td>2966</td>\n",
       "      <td>15954</td>\n",
       "      <td>https://i.ytimg.com/vi/2kyS6SvSYSE/default.jpg</td>\n",
       "      <td>False</td>\n",
       "      <td>False</td>\n",
       "      <td>False</td>\n",
       "      <td>SHANTELL'S CHANNEL - https://www.youtube.com/s...</td>\n",
       "    </tr>\n",
       "    <tr>\n",
       "      <th>1</th>\n",
       "      <td>1ZAPwfrtAFY</td>\n",
       "      <td>17.14.11</td>\n",
       "      <td>The Trump Presidency: Last Week Tonight with J...</td>\n",
       "      <td>LastWeekTonight</td>\n",
       "      <td>24</td>\n",
       "      <td>2017-11-13T07:30:00.000Z</td>\n",
       "      <td>last week tonight trump presidency|\"last week ...</td>\n",
       "      <td>2418783</td>\n",
       "      <td>97185</td>\n",
       "      <td>6146</td>\n",
       "      <td>12703</td>\n",
       "      <td>https://i.ytimg.com/vi/1ZAPwfrtAFY/default.jpg</td>\n",
       "      <td>False</td>\n",
       "      <td>False</td>\n",
       "      <td>False</td>\n",
       "      <td>One year after the presidential election, John...</td>\n",
       "    </tr>\n",
       "    <tr>\n",
       "      <th>2</th>\n",
       "      <td>5qpjK5DgCt4</td>\n",
       "      <td>17.14.11</td>\n",
       "      <td>Racist Superman | Rudy Mancuso, King Bach &amp; Le...</td>\n",
       "      <td>Rudy Mancuso</td>\n",
       "      <td>23</td>\n",
       "      <td>2017-11-12T19:05:24.000Z</td>\n",
       "      <td>racist superman|\"rudy\"|\"mancuso\"|\"king\"|\"bach\"...</td>\n",
       "      <td>3191434</td>\n",
       "      <td>146033</td>\n",
       "      <td>5339</td>\n",
       "      <td>8181</td>\n",
       "      <td>https://i.ytimg.com/vi/5qpjK5DgCt4/default.jpg</td>\n",
       "      <td>False</td>\n",
       "      <td>False</td>\n",
       "      <td>False</td>\n",
       "      <td>WATCH MY PREVIOUS VIDEO ▶ \\n\\nSUBSCRIBE ► http...</td>\n",
       "    </tr>\n",
       "  </tbody>\n",
       "</table>\n",
       "</div>"
      ],
      "text/plain": [
       "      video_id trending_date  \\\n",
       "0  2kyS6SvSYSE      17.14.11   \n",
       "1  1ZAPwfrtAFY      17.14.11   \n",
       "2  5qpjK5DgCt4      17.14.11   \n",
       "\n",
       "                                               title    channel_title  \\\n",
       "0                 WE WANT TO TALK ABOUT OUR MARRIAGE     CaseyNeistat   \n",
       "1  The Trump Presidency: Last Week Tonight with J...  LastWeekTonight   \n",
       "2  Racist Superman | Rudy Mancuso, King Bach & Le...     Rudy Mancuso   \n",
       "\n",
       "   category_id              publish_time  \\\n",
       "0           22  2017-11-13T17:13:01.000Z   \n",
       "1           24  2017-11-13T07:30:00.000Z   \n",
       "2           23  2017-11-12T19:05:24.000Z   \n",
       "\n",
       "                                                tags    views   likes  \\\n",
       "0                                    SHANtell martin   748374   57527   \n",
       "1  last week tonight trump presidency|\"last week ...  2418783   97185   \n",
       "2  racist superman|\"rudy\"|\"mancuso\"|\"king\"|\"bach\"...  3191434  146033   \n",
       "\n",
       "   dislikes  comment_count                                  thumbnail_link  \\\n",
       "0      2966          15954  https://i.ytimg.com/vi/2kyS6SvSYSE/default.jpg   \n",
       "1      6146          12703  https://i.ytimg.com/vi/1ZAPwfrtAFY/default.jpg   \n",
       "2      5339           8181  https://i.ytimg.com/vi/5qpjK5DgCt4/default.jpg   \n",
       "\n",
       "   comments_disabled  ratings_disabled  video_error_or_removed  \\\n",
       "0              False             False                   False   \n",
       "1              False             False                   False   \n",
       "2              False             False                   False   \n",
       "\n",
       "                                         description  \n",
       "0  SHANTELL'S CHANNEL - https://www.youtube.com/s...  \n",
       "1  One year after the presidential election, John...  \n",
       "2  WATCH MY PREVIOUS VIDEO ▶ \\n\\nSUBSCRIBE ► http...  "
      ]
     },
     "execution_count": 5,
     "metadata": {},
     "output_type": "execute_result"
    }
   ],
   "source": [
    "df.head(3)"
   ]
  },
  {
   "cell_type": "code",
   "execution_count": 6,
   "metadata": {},
   "outputs": [
    {
     "data": {
      "text/plain": [
       "(16341, 16)"
      ]
     },
     "execution_count": 6,
     "metadata": {},
     "output_type": "execute_result"
    }
   ],
   "source": [
    "df = df[df['views'] > 1000000]\n",
    "df.shape"
   ]
  },
  {
   "cell_type": "code",
   "execution_count": 7,
   "metadata": {},
   "outputs": [],
   "source": [
    "df.sort_values(['trending_date', 'views', 'likes'], ascending=False, inplace=True)\n",
    "df.dropna(subset=['title', 'description', 'tags'], inplace=True)\n",
    "df = df.drop_duplicates(subset=['title']).reset_index(drop=True)\n",
    "df = df[['title', 'description', 'tags']]"
   ]
  },
  {
   "cell_type": "code",
   "execution_count": 8,
   "metadata": {},
   "outputs": [
    {
     "data": {
      "text/plain": [
       "(2187, 3)"
      ]
     },
     "execution_count": 8,
     "metadata": {},
     "output_type": "execute_result"
    }
   ],
   "source": [
    "df.shape"
   ]
  },
  {
   "cell_type": "code",
   "execution_count": 9,
   "metadata": {},
   "outputs": [],
   "source": [
    "df.insert(0, 'id', df.index)"
   ]
  },
  {
   "cell_type": "code",
   "execution_count": 10,
   "metadata": {},
   "outputs": [
    {
     "data": {
      "text/html": [
       "<div>\n",
       "<style scoped>\n",
       "    .dataframe tbody tr th:only-of-type {\n",
       "        vertical-align: middle;\n",
       "    }\n",
       "\n",
       "    .dataframe tbody tr th {\n",
       "        vertical-align: top;\n",
       "    }\n",
       "\n",
       "    .dataframe thead th {\n",
       "        text-align: right;\n",
       "    }\n",
       "</style>\n",
       "<table border=\"1\" class=\"dataframe\">\n",
       "  <thead>\n",
       "    <tr style=\"text-align: right;\">\n",
       "      <th></th>\n",
       "      <th>id</th>\n",
       "      <th>title</th>\n",
       "      <th>description</th>\n",
       "      <th>tags</th>\n",
       "    </tr>\n",
       "  </thead>\n",
       "  <tbody>\n",
       "    <tr>\n",
       "      <th>0</th>\n",
       "      <td>0</td>\n",
       "      <td>Childish Gambino - This Is America (Official V...</td>\n",
       "      <td>“This is America” by Childish Gambino http://s...</td>\n",
       "      <td>Childish Gambino|\"Rap\"|\"This Is America\"|\"mcDJ...</td>\n",
       "    </tr>\n",
       "    <tr>\n",
       "      <th>1</th>\n",
       "      <td>1</td>\n",
       "      <td>BTS (방탄소년단) 'FAKE LOVE' Official MV</td>\n",
       "      <td>BTS (방탄소년단) 'FAKE LOVE' Official MVDirector : ...</td>\n",
       "      <td>BIGHIT|\"빅히트\"|\"방탄소년단\"|\"BTS\"|\"BANGTAN\"|\"방탄\"|\"FAK...</td>\n",
       "    </tr>\n",
       "    <tr>\n",
       "      <th>2</th>\n",
       "      <td>2</td>\n",
       "      <td>Do You Hear Yanny or Laurel? (SOLVED with SCIE...</td>\n",
       "      <td>Yanny vs. Laurel audio illusion solved! PHEW F...</td>\n",
       "      <td>AsapSCIENCE|\"audio illusion\"|\"yanny\"|\"laurel\"|...</td>\n",
       "    </tr>\n",
       "  </tbody>\n",
       "</table>\n",
       "</div>"
      ],
      "text/plain": [
       "   id                                              title  \\\n",
       "0   0  Childish Gambino - This Is America (Official V...   \n",
       "1   1                BTS (방탄소년단) 'FAKE LOVE' Official MV   \n",
       "2   2  Do You Hear Yanny or Laurel? (SOLVED with SCIE...   \n",
       "\n",
       "                                         description  \\\n",
       "0  “This is America” by Childish Gambino http://s...   \n",
       "1  BTS (방탄소년단) 'FAKE LOVE' Official MVDirector : ...   \n",
       "2  Yanny vs. Laurel audio illusion solved! PHEW F...   \n",
       "\n",
       "                                                tags  \n",
       "0  Childish Gambino|\"Rap\"|\"This Is America\"|\"mcDJ...  \n",
       "1  BIGHIT|\"빅히트\"|\"방탄소년단\"|\"BTS\"|\"BANGTAN\"|\"방탄\"|\"FAK...  \n",
       "2  AsapSCIENCE|\"audio illusion\"|\"yanny\"|\"laurel\"|...  "
      ]
     },
     "execution_count": 10,
     "metadata": {},
     "output_type": "execute_result"
    }
   ],
   "source": [
    "df.head(3)"
   ]
  },
  {
   "cell_type": "code",
   "execution_count": 11,
   "metadata": {},
   "outputs": [
    {
     "data": {
      "text/plain": [
       "id             0\n",
       "title          0\n",
       "description    0\n",
       "tags           0\n",
       "dtype: int64"
      ]
     },
     "execution_count": 11,
     "metadata": {},
     "output_type": "execute_result"
    }
   ],
   "source": [
    "df.isna().sum()"
   ]
  },
  {
   "cell_type": "code",
   "execution_count": 12,
   "metadata": {},
   "outputs": [],
   "source": [
    "# Because of processing time and OpenAI Billing, I will take just 200 random samples as the main data\n",
    "# I use sampling to get more diversity (it seems that the most viewed videos are music videos)\n",
    "df = df.sample(n=200, random_state=0)"
   ]
  },
  {
   "cell_type": "code",
   "execution_count": 13,
   "metadata": {},
   "outputs": [],
   "source": [
    "df.to_csv('../../data/data.csv', index=False)"
   ]
  },
  {
   "cell_type": "markdown",
   "metadata": {},
   "source": [
    "## Data indexing: Elasticsearch"
   ]
  },
  {
   "cell_type": "code",
   "execution_count": 14,
   "metadata": {},
   "outputs": [],
   "source": [
    "documents = df[['id', 'title', 'tags', 'description']].to_dict('records')"
   ]
  },
  {
   "cell_type": "code",
   "execution_count": 15,
   "metadata": {},
   "outputs": [
    {
     "data": {
      "text/plain": [
       "ObjectApiResponse({'name': '52a926cb09df', 'cluster_name': 'docker-cluster', 'cluster_uuid': 'lGJGYGlNREaNO19N8Hgfzw', 'version': {'number': '8.5.0', 'build_flavor': 'default', 'build_type': 'docker', 'build_hash': 'c94b4700cda13820dad5aa74fae6db185ca5c304', 'build_date': '2022-10-24T16:54:16.433628434Z', 'build_snapshot': False, 'lucene_version': '9.4.1', 'minimum_wire_compatibility_version': '7.17.0', 'minimum_index_compatibility_version': '7.0.0'}, 'tagline': 'You Know, for Search'})"
      ]
     },
     "execution_count": 15,
     "metadata": {},
     "output_type": "execute_result"
    }
   ],
   "source": [
    "# Run ElasticSearch previously in docker\n",
    "# docker run -it \\\n",
    "#     --rm \\\n",
    "#     --name elasticsearch \\\n",
    "#     -m 4GB \\\n",
    "#     -p 9200:9200 \\\n",
    "#     -p 9300:9300 \\\n",
    "#     -e \"discovery.type=single-node\" \\\n",
    "#     -e \"xpack.security.enabled=false\" \\\n",
    "#     docker.elastic.co/elasticsearch/elasticsearch:8.4.3\n",
    "\n",
    "from elasticsearch import Elasticsearch\n",
    "es_client = Elasticsearch('http://localhost:9200') \n",
    "es_client.info()"
   ]
  },
  {
   "cell_type": "code",
   "execution_count": 16,
   "metadata": {},
   "outputs": [],
   "source": [
    "index_settings = {\n",
    "    \"settings\": {\n",
    "        \"number_of_shards\": 1,\n",
    "        \"number_of_replicas\": 0\n",
    "    },\n",
    "    \"mappings\": {\n",
    "        \"properties\": {\n",
    "            \"title\": {\"type\": \"text\"},\n",
    "            \"description\": {\"type\": \"text\"},\n",
    "            \"tags\": {\"type\": \"text\"},\n",
    "            \"id\": {\"type\" : \"keyword\"},\n",
    "        }\n",
    "    }\n",
    "}\n",
    "\n",
    "index_name = \"youtube-titles\"\n",
    "\n",
    "try:\n",
    "    es_client.indices.create(index=index_name, body=index_settings)\n",
    "except:\n",
    "    es_client.options(ignore_status=[400,404]).indices.delete(index=index_name)\n",
    "    es_client.indices.create(index=index_name, body=index_settings)"
   ]
  },
  {
   "cell_type": "code",
   "execution_count": 17,
   "metadata": {},
   "outputs": [
    {
     "name": "stderr",
     "output_type": "stream",
     "text": [
      "100%|██████████| 200/200 [00:09<00:00, 20.05it/s]\n"
     ]
    }
   ],
   "source": [
    "from tqdm import tqdm \n",
    "for doc in tqdm(documents):\n",
    "    es_client.index(index=index_name, document=doc)"
   ]
  },
  {
   "cell_type": "code",
   "execution_count": 18,
   "metadata": {},
   "outputs": [],
   "source": [
    "query = \"easy recipe\""
   ]
  },
  {
   "cell_type": "code",
   "execution_count": 19,
   "metadata": {},
   "outputs": [
    {
     "data": {
      "text/plain": [
       "[{'id': 353,\n",
       "  'title': 'Real Doctor Reacts to THE GOOD DOCTOR | Medical Drama Review | Doctor Mike',\n",
       "  'tags': 'doctor mike|\"dr mike\"|\"medical drama review\"|\"medical tv show\"|\"real doctor watches greys anatomy\"|\"tv medical drama\"|\"medical drama\"|\"resident\"|\"medical drama tv\"|\"TV doctors\"|\"doctor tv shows\"|\"doctor reviews medical tv show\"|\"best doctor tv shows\"|\"good doctor\"|\"the good doctor\"|\"doctor watches the good doctor\"|\"good doctor accurate\"|\"the good doctor reaction\"|\"doctor mike reacts to\"|\"the good doctor (tv program)\"|\"the good doctor season 1\"|\"the good doctor 1x01\"|\"shaun murphy\"|\"autism tv\"',\n",
       "  'description': \"Wow! Thank you so much for supporting the Real Doctor Reacts to series. I said that if you get the grey's anatomy video to 15k likes I'll do another episode and you CRUSHED it by getting it 200k+ likes. I dove into the comments section to see what medical tv drama you wanted me to review next and it seemed like the good doctor was the obvious choice. Get ready TV Doctors, because Dr. Mike is coming for you =] \\\\n\\\\nFull disclosure, I have never watched an episode of the good doctor on ABC so I decided to go ahead and start my tv medical drama review off with the first episode ( good doctor 1x01 ) of the series. I was really curious myself to see if the good doctor is a medically accurate show.\\\\n\\\\nI really did enjoy this medical tv show because I think it did a lot of things well. It gave an interesting look into what life is like a for a surgeon and a resident. Being a surgical resident is not an easy job and to make the situation even more complex Dr. Sean Murphy has autism so they did a great job of breaking down these circumstances.\\\\n\\\\nI hope you enjoy this episode of Real Doctor Watches The Good Doctor / Real Doctor Reacts to the Good Doctor. If you want me to continue making this series please like the video and leave me a comment on which show or episode you'd like for me to review next. Love you all! \\\\n\\\\nSUBSCRIBE for new videos every Sunday ▶  https://goo.gl/87kYq6 \\\\n\\\\nLet’s connect:\\\\n\\\\nIG https://goo.gl/41ZS7w - Doctor Mike\\\\nTwitter https://goo.gl/kzmGs5 - Real Doctor Mike\\\\nFacebook https://goo.gl/QH4nJS - Real Doctor Mike\\\\n\\\\nContact Email: DoctorMikeMedia@Gmail.com\\\\n\\\\nMusic by Joakim Karud\\\\nhttps://soundcloud.com/joakimkarud\"},\n",
       " {'id': 728,\n",
       "  'title': 'Tomb Raider - Official Trailer #2 - Warner Bros. UK',\n",
       "  'tags': 'Warner Brothers|\"WB\"|\"Warner Bros\"|\"Warner\"|\"Film Warner\"|\"Tomb Raider\"|\"Alicia Vikander\"|\"Dominic West\"|\"Walton Goggins\"|\"Daniel Wu\"|\"Roar Uthaug\"|\"Lara Croft\"|\"Tomb Raider Trailer\"|\"Tomb Raider Main Trailer\"|\"Tomb Raider 2018\"|\"Trailer 2018\"|\"Tomb Raider Film 2018\"|\"New Tomb Raider Movie\"|\"Trailer\"|\"2018\"|\"Action\"|\"Adventure\"|\"Fantastic Beasts\"|\"Ex Machina\"|\"The Danish Girl\"|\"HD Trailer\"|\"Official Trailer\"|\"Film Trailer\"|\"Teaser Trailer\"|\"Movie Clips\"',\n",
       "  'description': 'Her destiny will be fulfilled. Alicia Vikander is Lara Croft. See TOMB RAIDER in cinemas this March. #TombRaider\\r\\\\nFacebook.com/TombRaiderMovieUK/\\r\\\\nTwitter.com/WarnerBrosUK\\r\\\\nInstagram.com/warnerbrosuk\\r\\\\n\\r\\\\nLara Croft is the fiercely independent daughter of an eccentric adventurer who vanished when she was scarcely a teen.  Now a young woman of 21 without any real focus or purpose, Lara navigates the chaotic streets of trendy East London as a bike courier, barely making the rent.  Determined to forge her own path, she refuses to take the reins of her father’s global empire just as staunchly as she rejects the idea that he’s truly gone.  Advised to face the facts and move forward after seven years without him, even Lara can’t understand what drives her to finally solve the puzzle of his mysterious death.\\r\\\\n\\r\\\\nLeaving everything she knows behind, Lara goes in search of her dad’s last-known destination: a fabled tomb on a mythical island that might be somewhere off the coast of Japan.  But her mission will not be an easy one; just reaching the island will be extremely treacherous.  Suddenly, the stakes couldn’t be higher for Lara, who—against the odds and armed with only her sharp mind, blind faith and inherently stubborn spirit—must learn to push herself beyond her limits as she journeys into the unknown.  If she survives this perilous adventure, it could be the making of her, earning her the name tomb raider.\\r\\\\n\\r\\\\nFrom Warner Bros. Pictures and Metro-Goldwyn-Mayer Pictures, “Tomb Raider” is the story that will set a young and resolute Lara Croft on a path toward becoming a global hero.  The film stars Oscar winner Alicia Vikander (“Ex Machina,” “The Danish Girl”) in the lead role, under the direction of Roar Uthaug (“The Wave”), with Oscar-winner Graham King (“The Departed”) producing under his GK Films banner.  The executive producers are Patrick McCormick, Denis O’Sullivan and Noah Hughes.\\r\\\\n“Tomb Raider” also stars Dominic West (“Money Monster,” “300”), Walton Goggins (“The Hateful Eight,” “Django Unchained”), Daniel Wu (AMC’s “Into the Badlands”) and Oscar nominee Kristin Scott Thomas (“The English Patient”).\\r\\\\nUthaug directed from a script by Geneva Robertson-Dworet and Alastair Siddons.  The director’s behind-the-scenes creative team includes director of photography George Richmond (“Mission: Impossible – Rogue Nation”); production designer Gary Freeman (“Maleficent”); Oscar-nominated editor Stuart Baird (“Skyfall,” “Gorillas in the Mist”) and editor Michael Tronick (“Suicide Squad”); Oscar-winning costume designer Colleen Atwood (“Fantastic Beasts and Where to Find Them”) and costume designer Timothy A. Wonsik (assistant costume designer, “Free State of Jones,” “Iron Man 3”).  The music is by Tom Holkenborg (“Mad Max: Fury Road”).\\r\\\\n\\r\\\\nWarner Bros. Pictures and Metro-Goldwyn-Mayer Pictures present, a Square Enix production, a GK Films production, “Tomb Raider.” \\r\\\\n\\r\\\\nSet for release beginning March 16, 2018, the film will be distributed by Warner Bros. Pictures, a Warner Bros. Entertainment Company, and in select territories by MGM.'}]"
      ]
     },
     "execution_count": 19,
     "metadata": {},
     "output_type": "execute_result"
    }
   ],
   "source": [
    "search_query = {\n",
    "    \"size\": 10,\n",
    "    \"query\": {\n",
    "        \"bool\": {\n",
    "            \"must\": {\n",
    "                \"multi_match\": {\n",
    "                    \"query\": query,\n",
    "                    \"fields\": [\"description^4\", \"text\"],\n",
    "                    \"type\": \"best_fields\"\n",
    "                }\n",
    "            },\n",
    "        }\n",
    "    }\n",
    "}\n",
    "\n",
    "search_results = es_client.search(index=index_name,\n",
    "                                  body=search_query)\n",
    "\n",
    "[r['_source'] for r in search_results['hits']['hits']]\n"
   ]
  },
  {
   "cell_type": "markdown",
   "metadata": {},
   "source": [
    "### RAG: OpenAI LLM + Elasticsearch "
   ]
  },
  {
   "cell_type": "code",
   "execution_count": 20,
   "metadata": {},
   "outputs": [],
   "source": [
    "from dotenv import load_dotenv\n",
    "from openai import OpenAI\n",
    "\n",
    "# Create previously the environment variable OPENAI_API_KEY with your personal OpenAI API key\n",
    "# in the command line or in a .env file\n",
    "load_dotenv()\n",
    "\n",
    "client = OpenAI()"
   ]
  },
  {
   "cell_type": "code",
   "execution_count": 21,
   "metadata": {},
   "outputs": [],
   "source": [
    "prompt_template = \"\"\"\n",
    "You're a professional youtuber. Answer with a youtube video title to the QUERY which is based on the CONTEXT from the video database.\n",
    "Use only the facts from the CONTEXT when answering the QUERY\n",
    "\n",
    "QUERY:\n",
    "{query}\n",
    "\n",
    "CONTEXT:\n",
    "{context}\n",
    "\"\"\".strip()\n",
    "\n",
    "entry_template = \"\"\"\n",
    "video_title: {title},\n",
    "video_description: {description},\n",
    "video_tags: {tags}\n",
    "\"\"\".strip()\n",
    "\n",
    "\n",
    "def build_prompt(query, search_results, prompt_template, entry_template):\n",
    "    context = \"\"\n",
    "    \n",
    "    for doc in search_results:\n",
    "        context = context + entry_template.format(id=doc[\"id\"],\n",
    "                                                  title=doc[\"title\"],\n",
    "                                                  description=doc[\"description\"],\n",
    "                                                  tags=doc[\"tags\"]) + \"\\n\\n\"\n",
    "        \n",
    "    prompt = prompt_template.format(query=query, context=context).strip()\n",
    "    return prompt\n",
    "\n",
    "\n",
    "def search(query):\n",
    "\n",
    "    search_query = {\n",
    "        \"size\": 10,\n",
    "        \"query\": {\n",
    "            \"bool\": {\n",
    "                \"must\": {\n",
    "                    \"multi_match\": {\n",
    "                        \"query\": query,\n",
    "                        \"fields\": [\"description\", \"text\", \"tags\"],\n",
    "                        \"type\": \"best_fields\"\n",
    "                    }\n",
    "                },\n",
    "            }\n",
    "        }\n",
    "    }\n",
    "\n",
    "    search_results = es_client.search(index=index_name, body=search_query)\n",
    "    return [r['_source'] for r in search_results['hits']['hits']]\n",
    "            \n",
    "        \n",
    "def llm(prompt, model='gpt-4o-mini'):\n",
    "    response = client.chat.completions.create(\n",
    "        model=model,\n",
    "        messages=[{\"role\": \"user\", \"content\": prompt}]\n",
    "    )\n",
    "    \n",
    "    return response.choices[0].message.content\n",
    "\n",
    "\n",
    "def rag(query, model='gpt-4o-mini'):\n",
    "    search_results = search(query=query)\n",
    "    prompt = build_prompt(query=query,\n",
    "                        search_results=search_results,\n",
    "                        entry_template=entry_template,\n",
    "                        prompt_template=prompt_template)\n",
    "    answer = llm(prompt=prompt, model=model)\n",
    "    return answer"
   ]
  },
  {
   "cell_type": "code",
   "execution_count": 22,
   "metadata": {},
   "outputs": [
    {
     "data": {
      "text/plain": [
       "'\"Master the Spanish Omelette: Easy & Delicious Recipe!\"'"
      ]
     },
     "execution_count": 22,
     "metadata": {},
     "output_type": "execute_result"
    }
   ],
   "source": [
    "query = 'easy and tasty recipe for spanish omelette'\n",
    "rag(query)"
   ]
  },
  {
   "cell_type": "code",
   "execution_count": 23,
   "metadata": {},
   "outputs": [
    {
     "data": {
      "text/plain": [
       "'\"Manga Insights: Exploring the Depths of Oyasumi Punpun\"'"
      ]
     },
     "execution_count": 23,
     "metadata": {},
     "output_type": "execute_result"
    }
   ],
   "source": [
    "query = 'video which explains oyasumi punpun manga insights'\n",
    "rag(query)"
   ]
  }
 ],
 "metadata": {
  "kernelspec": {
   "display_name": "youtube-title-generator-98arD9fJ-py3.10",
   "language": "python",
   "name": "python3"
  },
  "language_info": {
   "codemirror_mode": {
    "name": "ipython",
    "version": 3
   },
   "file_extension": ".py",
   "mimetype": "text/x-python",
   "name": "python",
   "nbconvert_exporter": "python",
   "pygments_lexer": "ipython3",
   "version": "3.10.11"
  },
  "orig_nbformat": 4
 },
 "nbformat": 4,
 "nbformat_minor": 2
}
